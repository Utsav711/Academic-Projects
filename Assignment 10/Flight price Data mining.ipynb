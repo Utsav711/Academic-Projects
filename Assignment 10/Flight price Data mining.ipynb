{
 "cells": [
  {
   "cell_type": "code",
   "execution_count": 13,
   "id": "95c946bf",
   "metadata": {},
   "outputs": [],
   "source": [
    "import pandas as pd\n",
    "import selenium\n",
    "from selenium import webdriver\n",
    "import time\n",
    "from selenium.common.exceptions import StaleElementReferenceException, NoSuchElementException\n",
    "from selenium.webdriver.common.by import By\n",
    "from time import sleep \n",
    "from selenium.webdriver.support.wait import WebDriverWait as wait\n",
    "import numpy as np\n",
    "\n",
    "import warnings \n",
    "warnings.filterwarnings('ignore')\n",
    "import urllib\n",
    "import os\n",
    "from bs4 import BeautifulSoup\n",
    "from selenium.webdriver.support import expected_conditions as EC"
   ]
  },
  {
   "cell_type": "code",
   "execution_count": 14,
   "id": "db0a2022",
   "metadata": {},
   "outputs": [],
   "source": [
    "driver = webdriver.Firefox()"
   ]
  },
  {
   "cell_type": "code",
   "execution_count": 15,
   "id": "3288ec18",
   "metadata": {},
   "outputs": [],
   "source": [
    "df_main=pd.DataFrame(columns=[\"Name\",\"Duration\",\"Layovers\",\"Departure_time\",\n",
    "                      \"Arrival_time\",\"Source\",\"Destination\",\"Details\",\"Price\"])"
   ]
  },
  {
   "cell_type": "code",
   "execution_count": 16,
   "id": "7f056b72",
   "metadata": {},
   "outputs": [
    {
     "data": {
      "text/html": [
       "<div>\n",
       "<style scoped>\n",
       "    .dataframe tbody tr th:only-of-type {\n",
       "        vertical-align: middle;\n",
       "    }\n",
       "\n",
       "    .dataframe tbody tr th {\n",
       "        vertical-align: top;\n",
       "    }\n",
       "\n",
       "    .dataframe thead th {\n",
       "        text-align: right;\n",
       "    }\n",
       "</style>\n",
       "<table border=\"1\" class=\"dataframe\">\n",
       "  <thead>\n",
       "    <tr style=\"text-align: right;\">\n",
       "      <th></th>\n",
       "      <th>Name</th>\n",
       "      <th>Duration</th>\n",
       "      <th>Layovers</th>\n",
       "      <th>Departure_time</th>\n",
       "      <th>Arrival_time</th>\n",
       "      <th>Source</th>\n",
       "      <th>Destination</th>\n",
       "      <th>Details</th>\n",
       "      <th>Price</th>\n",
       "    </tr>\n",
       "  </thead>\n",
       "  <tbody>\n",
       "  </tbody>\n",
       "</table>\n",
       "</div>"
      ],
      "text/plain": [
       "Empty DataFrame\n",
       "Columns: [Name, Duration, Layovers, Departure_time, Arrival_time, Source, Destination, Details, Price]\n",
       "Index: []"
      ]
     },
     "execution_count": 16,
     "metadata": {},
     "output_type": "execute_result"
    }
   ],
   "source": [
    "df_main"
   ]
  },
  {
   "cell_type": "code",
   "execution_count": 26,
   "id": "227f5dc2",
   "metadata": {},
   "outputs": [],
   "source": [
    "def data_mine(link):\n",
    "\n",
    "    driver.get(link)\n",
    "    wait(driver, 5).until(EC.element_to_be_clickable((By.XPATH,\"//div[@class='link-color fs-12 cursor-pointer']\")))\n",
    "       \n",
    "    #infinite scrolling\n",
    "    SCROLL_PAUSE_TIME = 1\n",
    "\n",
    "    # Get scroll height\n",
    "    last_height = driver.execute_script(\"return document.body.scrollHeight\")\n",
    "\n",
    "    while True:\n",
    "        # Scroll down to bottom\n",
    "        driver.execute_script(\"window.scrollTo(0, document.body.scrollHeight);\")\n",
    "\n",
    "        # Wait to load page\n",
    "        time.sleep(SCROLL_PAUSE_TIME)\n",
    "\n",
    "        # Calculate new scroll height and compare with last scroll height\n",
    "        new_height = driver.execute_script(\"return document.body.scrollHeight\")\n",
    "        if new_height == last_height:\n",
    "            break\n",
    "        last_height = new_height\n",
    "\n",
    "    #name of the airline\n",
    "    nametags=driver.find_elements_by_xpath(\"//span[@class='i-b text ellipsis']\")\n",
    "    name=[]\n",
    "    for n in nametags:\n",
    "        try:\n",
    "            name.append(n.text)\n",
    "        except NoSuchElementException:\n",
    "            name.append(np.nan)\n",
    "#     sleep(1)\n",
    "    #duration of the journey\n",
    "    durtags = driver.find_elements_by_xpath(\"//p[@class='fs-12 bold du mb-2']\")\n",
    "    dur=[]\n",
    "    for d in durtags:\n",
    "        try:\n",
    "            dur.append(d.text)\n",
    "        except NoSuchElementException:\n",
    "            dur.append(np.nan)\n",
    "#     sleep(1)\n",
    "    #emission and meal availability\n",
    "    footertags = driver.find_elements_by_xpath(\"//div[@class='features pull-right fs-12 flex']\")\n",
    "    footer=[]\n",
    "    for f in footertags:\n",
    "        try:\n",
    "            footer.append(f.text)\n",
    "        except NoSuchElementException:\n",
    "            footer.append(\"Not available\")\n",
    "#     sleep(1)\n",
    "    #price of the journey\n",
    "    pricetags = driver.find_elements_by_xpath(\"//div[@class='i-b tipsy fare-summary-tooltip fs-18']\")\n",
    "    price=[]\n",
    "    for p in pricetags:\n",
    "        try:\n",
    "            price.append(p.text)\n",
    "        except NoSuchElementException:\n",
    "            price.append(np.nan)\n",
    "#     sleep(1)\n",
    "    #arrival time\n",
    "    atimetags = driver.find_elements_by_xpath(\"//div[@class='i-b pdd-0 text-left atime col-5']/p[1]\")\n",
    "    arrtime=[]\n",
    "    for a in atimetags:\n",
    "            arrtime.append(a.text)\n",
    "#     sleep(1)\n",
    "    #departure time        \n",
    "    dtimetags = driver.find_elements_by_xpath(\"//div[@class='i-b pr']\")\n",
    "    deptime=[]\n",
    "    for d in dtimetags:\n",
    "            deptime.append(d.text)\n",
    "            \n",
    "#     sleep(1)        \n",
    "    #number of stops\n",
    "    stoptags = driver.find_elements_by_xpath(\"//div[@class=' font-lightgrey fs-10 tipsy i-b fs-10']\")\n",
    "    stops=[]\n",
    "    for s in stoptags:\n",
    "            stops.append(s.text)\n",
    "\n",
    "#     sleep(1)\n",
    "    #Origin city\n",
    "    sourcetags = driver.find_elements_by_xpath(\"//div[@class='i-b col-4 no-wrap text-right dtime col-3']/p[1]\")\n",
    "    source=[]\n",
    "    for so in sourcetags:\n",
    "            source.append(so.text) \n",
    "    \n",
    "#     sleep(1)\n",
    "    #destination city        \n",
    "    desttags = driver.find_elements_by_xpath(\"//div[@class='i-b pdd-0 text-left atime col-5']/p[2]\")\n",
    "    dest=[]\n",
    "    for de in desttags:\n",
    "            dest.append(de.text)\n",
    "\n",
    "    df_temp=pd.DataFrame({\"Name\":name,\"Duration\":dur,\"Layovers\":stops,\"Departure_time\":deptime,\n",
    "                          \"Arrival_time\":arrtime,\"Source\":source,\"Destination\":dest,\n",
    "                          \"Details\":footer,\"Price\":price})\n",
    "    \n",
    "\n",
    "    return df_temp"
   ]
  },
  {
   "cell_type": "code",
   "execution_count": 27,
   "id": "5f3d9ad6",
   "metadata": {},
   "outputs": [
    {
     "data": {
      "text/plain": [
       "(142, 9)"
      ]
     },
     "execution_count": 27,
     "metadata": {},
     "output_type": "execute_result"
    }
   ],
   "source": [
    "#Del to Mumbai\n",
    "temp1=data_mine(\"https://flight.yatra.com/air-search-ui/dom2/trigger?ADT=1&CHD=0&INF=0&class=Economy&destination=BOM&destinationCountry=IN&flexi=0&flight_depart_date=01%2F03%2F2022&hb=0&noOfSegments=1&origin=DEL&originCountry=IN&type=O&unique=90109695219&viewName=normal\")\n",
    "temp1.shape"
   ]
  },
  {
   "cell_type": "code",
   "execution_count": 28,
   "id": "c630c30a",
   "metadata": {},
   "outputs": [
    {
     "data": {
      "text/plain": [
       "(162, 9)"
      ]
     },
     "execution_count": 28,
     "metadata": {},
     "output_type": "execute_result"
    }
   ],
   "source": [
    "#Mumbai to Del\n",
    "temp2=data_mine(\"https://flight.yatra.com/air-search-ui/dom2/trigger?type=O&viewName=normal&flexi=0&noOfSegments=1&origin=BOM&originCountry=IN&destination=DEL&destinationCountry=IN&flight_depart_date=01%2F03%2F2022&ADT=1&CHD=0&INF=0&class=Economy&source=fresco-home&unqvaldesktop=1049077088347\")\n",
    "temp2.shape"
   ]
  },
  {
   "cell_type": "code",
   "execution_count": 29,
   "id": "9e5b5959",
   "metadata": {},
   "outputs": [
    {
     "data": {
      "text/plain": [
       "(120, 9)"
      ]
     },
     "execution_count": 29,
     "metadata": {},
     "output_type": "execute_result"
    }
   ],
   "source": [
    "#beng to hyder\n",
    "temp3=data_mine(\"https://flight.yatra.com/air-search-ui/dom2/trigger?ADT=1&CHD=0&INF=0&class=Economy&destination=HYD&destinationCountry=IN&flexi=0&flight_depart_date=01%2F03%2F2022&hb=0&noOfSegments=1&origin=BLR&originCountry=IN&type=O&unique=833829049588&version=1.1&viewName=normal\")\n",
    "temp3.shape"
   ]
  },
  {
   "cell_type": "code",
   "execution_count": 33,
   "id": "6f34cea8",
   "metadata": {},
   "outputs": [
    {
     "data": {
      "text/plain": [
       "(104, 9)"
      ]
     },
     "execution_count": 33,
     "metadata": {},
     "output_type": "execute_result"
    }
   ],
   "source": [
    "#hyder to beng\n",
    "temp4=data_mine(\"https://flight.yatra.com/air-search-ui/dom2/trigger?ADT=1&CHD=0&INF=0&class=Economy&destination=BLR&destinationCountry=IN&flexi=0&flight_depart_date=01%2F03%2F2022&hb=0&noOfSegments=1&origin=HYD&originCountry=IN&type=O&unique=514890830813&version=1.1&viewName=normal\")\n",
    "temp4.shape"
   ]
  },
  {
   "cell_type": "code",
   "execution_count": 34,
   "id": "82c49ba1",
   "metadata": {},
   "outputs": [
    {
     "data": {
      "text/plain": [
       "(73, 9)"
      ]
     },
     "execution_count": 34,
     "metadata": {},
     "output_type": "execute_result"
    }
   ],
   "source": [
    "#pune to chennai\n",
    "temp17 = data_mine(\"https://flight.yatra.com/air-search-ui/dom2/trigger?ADT=1&CHD=0&INF=0&class=Economy&destination=MAA&destinationCountry=IN&flexi=0&flight_depart_date=01%2F03%2F2022&hb=0&noOfSegments=1&origin=PNQ&originCountry=IN&type=O&unique=602166529091&version=1.1&viewName=normal\")\n",
    "temp17.shape"
   ]
  },
  {
   "cell_type": "code",
   "execution_count": 36,
   "id": "1f869d8c",
   "metadata": {},
   "outputs": [
    {
     "data": {
      "text/plain": [
       "(78, 9)"
      ]
     },
     "execution_count": 36,
     "metadata": {},
     "output_type": "execute_result"
    }
   ],
   "source": [
    "#chennai to pune\n",
    "temp5 = data_mine(\"https://flight.yatra.com/air-search-ui/dom2/trigger?ADT=1&CHD=0&INF=0&class=Economy&destination=PNQ&destinationCountry=IN&flexi=0&flight_depart_date=01%2F03%2F2022&hb=0&noOfSegments=1&origin=MAA&originCountry=IN&type=O&unique=1493964305913&version=1.1&viewName=normal\")\n",
    "temp5.shape"
   ]
  },
  {
   "cell_type": "code",
   "execution_count": 37,
   "id": "87c97141",
   "metadata": {},
   "outputs": [
    {
     "data": {
      "text/plain": [
       "(84, 9)"
      ]
     },
     "execution_count": 37,
     "metadata": {},
     "output_type": "execute_result"
    }
   ],
   "source": [
    "#kolkata to jaipur\n",
    "temp6=data_mine(\"https://flight.yatra.com/air-search-ui/dom2/trigger?ADT=1&CHD=0&INF=0&class=Economy&destination=JAI&destinationCountry=IN&flexi=0&flight_depart_date=01%2F03%2F2022&hb=0&noOfSegments=1&origin=CCU&originCountry=IN&type=O&unique=974022677252&version=1.1&viewName=normal\")\n",
    "temp6.shape"
   ]
  },
  {
   "cell_type": "code",
   "execution_count": 39,
   "id": "d8113494",
   "metadata": {},
   "outputs": [
    {
     "data": {
      "text/plain": [
       "(87, 9)"
      ]
     },
     "execution_count": 39,
     "metadata": {},
     "output_type": "execute_result"
    }
   ],
   "source": [
    "#jaipur to kol\n",
    "temp7=data_mine(\"https://flight.yatra.com/air-search-ui/dom2/trigger?ADT=1&CHD=0&INF=0&class=Economy&destination=CCU&destinationCountry=IN&flexi=0&flight_depart_date=01%2F03%2F2022&hb=0&noOfSegments=1&origin=JAI&originCountry=IN&type=O&unique=1080523056542&version=1.1&viewName=normal\")\n",
    "temp7.shape"
   ]
  },
  {
   "cell_type": "code",
   "execution_count": 40,
   "id": "82fc8916",
   "metadata": {},
   "outputs": [
    {
     "data": {
      "text/plain": [
       "(146, 9)"
      ]
     },
     "execution_count": 40,
     "metadata": {},
     "output_type": "execute_result"
    }
   ],
   "source": [
    "#mumbai to kol\n",
    "temp8=data_mine(\"https://flight.yatra.com/air-search-ui/dom2/trigger?ADT=1&CHD=0&INF=0&class=Economy&destination=CCU&destinationCountry=IN&flexi=0&flight_depart_date=01%2F03%2F2022&hb=0&noOfSegments=1&origin=BOM&originCountry=IN&type=O&unique=1553310394620&version=1.1&viewName=normal\")\n",
    "temp8.shape"
   ]
  },
  {
   "cell_type": "code",
   "execution_count": 42,
   "id": "0e20d440",
   "metadata": {},
   "outputs": [
    {
     "data": {
      "text/plain": [
       "(141, 9)"
      ]
     },
     "execution_count": 42,
     "metadata": {},
     "output_type": "execute_result"
    }
   ],
   "source": [
    "#kol to mum\n",
    "temp9=data_mine(\"https://flight.yatra.com/air-search-ui/dom2/trigger?ADT=1&CHD=0&INF=0&class=Economy&destination=BOM&destinationCountry=IN&flexi=0&flight_depart_date=01%2F03%2F2022&hb=0&noOfSegments=1&origin=CCU&originCountry=IN&type=O&unique=1055811029024&version=1.1&viewName=normal\")\n",
    "temp9.shape"
   ]
  },
  {
   "cell_type": "code",
   "execution_count": 43,
   "id": "d94cc2f9",
   "metadata": {},
   "outputs": [
    {
     "data": {
      "text/plain": [
       "(152, 9)"
      ]
     },
     "execution_count": 43,
     "metadata": {},
     "output_type": "execute_result"
    }
   ],
   "source": [
    "#del to chen\n",
    "temp10=data_mine(\"https://flight.yatra.com/air-search-ui/dom2/trigger?ADT=1&CHD=0&INF=0&class=Economy&destination=MAA&destinationCountry=IN&flexi=0&flight_depart_date=01%2F03%2F2022&hb=0&noOfSegments=1&origin=DEL&originCountry=IN&type=O&unique=1383308732115&version=1.1&viewName=normal\")\n",
    "temp10.shape"
   ]
  },
  {
   "cell_type": "code",
   "execution_count": 45,
   "id": "3cb8eef4",
   "metadata": {},
   "outputs": [
    {
     "data": {
      "text/plain": [
       "(144, 9)"
      ]
     },
     "execution_count": 45,
     "metadata": {},
     "output_type": "execute_result"
    }
   ],
   "source": [
    "#chen to del\n",
    "temp11=data_mine(\"https://flight.yatra.com/air-search-ui/dom2/trigger?ADT=1&CHD=0&INF=0&class=Economy&destination=DEL&destinationCountry=IN&flexi=0&flight_depart_date=01%2F03%2F2022&hb=0&noOfSegments=1&origin=MAA&originCountry=IN&type=O&unique=999734043387&version=1.1&viewName=normal\")\n",
    "temp11.shape"
   ]
  },
  {
   "cell_type": "code",
   "execution_count": 46,
   "id": "1651267f",
   "metadata": {},
   "outputs": [
    {
     "data": {
      "text/plain": [
       "(109, 9)"
      ]
     },
     "execution_count": 46,
     "metadata": {},
     "output_type": "execute_result"
    }
   ],
   "source": [
    "#ahmedabad to ben\n",
    "temp12=data_mine(\"https://flight.yatra.com/air-search-ui/dom2/trigger?ADT=1&CHD=0&INF=0&class=Economy&destination=BLR&destinationCountry=IN&flexi=0&flight_depart_date=01%2F03%2F2022&hb=0&noOfSegments=1&origin=AMD&originCountry=IN&type=O&unique=43940924505&version=1.1&viewName=normal\")\n",
    "temp12.shape"
   ]
  },
  {
   "cell_type": "code",
   "execution_count": 48,
   "id": "b45c9943",
   "metadata": {},
   "outputs": [
    {
     "data": {
      "text/plain": [
       "(107, 9)"
      ]
     },
     "execution_count": 48,
     "metadata": {},
     "output_type": "execute_result"
    }
   ],
   "source": [
    "#beng to ahm\n",
    "temp13=data_mine(\"https://flight.yatra.com/air-search-ui/dom2/trigger?type=O&viewName=normal&flexi=0&noOfSegments=1&origin=BLR&originCountry=IN&destination=AMD&destinationCountry=IN&flight_depart_date=01%2F03%2F2022&ADT=1&CHD=0&INF=0&class=Economy&source=fresco-home&unqvaldesktop=1081641336008\")\n",
    "temp13.shape"
   ]
  },
  {
   "cell_type": "code",
   "execution_count": 49,
   "id": "8755b231",
   "metadata": {},
   "outputs": [
    {
     "data": {
      "text/plain": [
       "(140, 9)"
      ]
     },
     "execution_count": 49,
     "metadata": {},
     "output_type": "execute_result"
    }
   ],
   "source": [
    "#goa to del\n",
    "temp14=data_mine(\"https://flight.yatra.com/air-search-ui/dom2/trigger?ADT=1&CHD=0&INF=0&class=Economy&destination=DEL&destinationCountry=IN&flexi=0&flight_depart_date=01%2F03%2F2022&hb=0&noOfSegments=1&origin=GOI&originCountry=IN&type=O&unique=1145275887780&version=1.1&viewName=normal\")\n",
    "temp14.shape"
   ]
  },
  {
   "cell_type": "code",
   "execution_count": 51,
   "id": "294220e2",
   "metadata": {},
   "outputs": [
    {
     "data": {
      "text/plain": [
       "(158, 9)"
      ]
     },
     "execution_count": 51,
     "metadata": {},
     "output_type": "execute_result"
    }
   ],
   "source": [
    "#del to goa\n",
    "temp15=data_mine(\"https://flight.yatra.com/air-search-ui/dom2/trigger?ADT=1&CHD=0&INF=0&class=Economy&destination=GOI&destinationCountry=IN&flexi=0&flight_depart_date=01%2F03%2F2022&hb=0&noOfSegments=1&origin=DEL&originCountry=IN&type=O&unique=1240899546952&version=1.1&viewName=normal\")\n",
    "temp15.shape"
   ]
  },
  {
   "cell_type": "code",
   "execution_count": 52,
   "id": "e29946de",
   "metadata": {},
   "outputs": [
    {
     "data": {
      "text/plain": [
       "(102, 9)"
      ]
     },
     "execution_count": 52,
     "metadata": {},
     "output_type": "execute_result"
    }
   ],
   "source": [
    "#mum to goa\n",
    "temp18=data_mine(\"https://flight.yatra.com/air-search-ui/dom2/trigger?ADT=1&CHD=0&INF=0&class=Economy&destination=GOI&destinationCountry=IN&flexi=0&flight_depart_date=01%2F03%2F2022&hb=0&noOfSegments=1&origin=BOM&originCountry=IN&type=O&unique=798285892997&version=1.1&viewName=normal\")\n",
    "temp18.shape"
   ]
  },
  {
   "cell_type": "code",
   "execution_count": 53,
   "id": "e20ad2e0",
   "metadata": {},
   "outputs": [
    {
     "data": {
      "text/plain": [
       "(90, 9)"
      ]
     },
     "execution_count": 53,
     "metadata": {},
     "output_type": "execute_result"
    }
   ],
   "source": [
    "#goa to mum\n",
    "temp16=data_mine(\"https://flight.yatra.com/air-search-ui/dom2/trigger?ADT=1&CHD=0&INF=0&class=Economy&destination=BOM&destinationCountry=IN&flexi=0&flight_depart_date=01%2F03%2F2022&hb=0&noOfSegments=1&origin=GOI&originCountry=IN&type=O&unique=1567004015738&version=1.1&viewName=normal\")\n",
    "temp16.shape"
   ]
  },
  {
   "cell_type": "code",
   "execution_count": 54,
   "id": "a52dd107",
   "metadata": {},
   "outputs": [],
   "source": [
    "df_main=pd.concat([temp1,temp2,temp3,temp4,temp5,temp6,temp7,\n",
    "                   temp8,temp9,temp10,temp11,temp12,temp13,temp14,\n",
    "                   temp15,temp16,temp17,temp18],ignore_index=True)"
   ]
  },
  {
   "cell_type": "code",
   "execution_count": 55,
   "id": "f67a19c0",
   "metadata": {
    "scrolled": true
   },
   "outputs": [
    {
     "data": {
      "text/html": [
       "<div>\n",
       "<style scoped>\n",
       "    .dataframe tbody tr th:only-of-type {\n",
       "        vertical-align: middle;\n",
       "    }\n",
       "\n",
       "    .dataframe tbody tr th {\n",
       "        vertical-align: top;\n",
       "    }\n",
       "\n",
       "    .dataframe thead th {\n",
       "        text-align: right;\n",
       "    }\n",
       "</style>\n",
       "<table border=\"1\" class=\"dataframe\">\n",
       "  <thead>\n",
       "    <tr style=\"text-align: right;\">\n",
       "      <th></th>\n",
       "      <th>Name</th>\n",
       "      <th>Duration</th>\n",
       "      <th>Layovers</th>\n",
       "      <th>Departure_time</th>\n",
       "      <th>Arrival_time</th>\n",
       "      <th>Source</th>\n",
       "      <th>Destination</th>\n",
       "      <th>Details</th>\n",
       "      <th>Price</th>\n",
       "    </tr>\n",
       "  </thead>\n",
       "  <tbody>\n",
       "    <tr>\n",
       "      <th>0</th>\n",
       "      <td>Air Asia</td>\n",
       "      <td>5h 50m</td>\n",
       "      <td>1 Stop</td>\n",
       "      <td>08:20</td>\n",
       "      <td>14:10</td>\n",
       "      <td>New Delhi</td>\n",
       "      <td>Mumbai</td>\n",
       "      <td>eCash 250</td>\n",
       "      <td>5,949</td>\n",
       "    </tr>\n",
       "    <tr>\n",
       "      <th>1</th>\n",
       "      <td>Air Asia</td>\n",
       "      <td>6h 25m</td>\n",
       "      <td>1 Stop</td>\n",
       "      <td>20:00</td>\n",
       "      <td>02:25\\n+ 1 day</td>\n",
       "      <td>New Delhi</td>\n",
       "      <td>Mumbai</td>\n",
       "      <td>eCash 250</td>\n",
       "      <td>5,949</td>\n",
       "    </tr>\n",
       "    <tr>\n",
       "      <th>2</th>\n",
       "      <td>Air Asia</td>\n",
       "      <td>10h 30m</td>\n",
       "      <td>1 Stop</td>\n",
       "      <td>20:45</td>\n",
       "      <td>07:15\\n+ 1 day</td>\n",
       "      <td>New Delhi</td>\n",
       "      <td>Mumbai</td>\n",
       "      <td>Emissions: 303 Kg CO2\\neCash 250</td>\n",
       "      <td>5,949</td>\n",
       "    </tr>\n",
       "    <tr>\n",
       "      <th>3</th>\n",
       "      <td>Air Asia</td>\n",
       "      <td>11h 00m</td>\n",
       "      <td>1 Stop</td>\n",
       "      <td>09:35</td>\n",
       "      <td>20:35</td>\n",
       "      <td>New Delhi</td>\n",
       "      <td>Mumbai</td>\n",
       "      <td>Emissions: 303 Kg CO2\\neCash 250</td>\n",
       "      <td>5,949</td>\n",
       "    </tr>\n",
       "    <tr>\n",
       "      <th>4</th>\n",
       "      <td>Air Asia</td>\n",
       "      <td>11h 40m</td>\n",
       "      <td>1 Stop</td>\n",
       "      <td>20:00</td>\n",
       "      <td>07:40\\n+ 1 day</td>\n",
       "      <td>New Delhi</td>\n",
       "      <td>Mumbai</td>\n",
       "      <td>eCash 250</td>\n",
       "      <td>5,949</td>\n",
       "    </tr>\n",
       "    <tr>\n",
       "      <th>...</th>\n",
       "      <td>...</td>\n",
       "      <td>...</td>\n",
       "      <td>...</td>\n",
       "      <td>...</td>\n",
       "      <td>...</td>\n",
       "      <td>...</td>\n",
       "      <td>...</td>\n",
       "      <td>...</td>\n",
       "      <td>...</td>\n",
       "    </tr>\n",
       "    <tr>\n",
       "      <th>2134</th>\n",
       "      <td>Vistara</td>\n",
       "      <td>18h 05m</td>\n",
       "      <td>1 Stop</td>\n",
       "      <td>19:45</td>\n",
       "      <td>13:50\\n+ 1 day</td>\n",
       "      <td>Mumbai</td>\n",
       "      <td>Goa</td>\n",
       "      <td>No Meal Fare\\nEmissions: 565 Kg CO2\\neCash 250</td>\n",
       "      <td>25,893</td>\n",
       "    </tr>\n",
       "    <tr>\n",
       "      <th>2135</th>\n",
       "      <td>Vistara</td>\n",
       "      <td>19h 20m</td>\n",
       "      <td>1 Stop</td>\n",
       "      <td>18:30</td>\n",
       "      <td>13:50\\n+ 1 day</td>\n",
       "      <td>Mumbai</td>\n",
       "      <td>Goa</td>\n",
       "      <td>No Meal Fare\\nEmissions: 565 Kg CO2\\neCash 250</td>\n",
       "      <td>25,893</td>\n",
       "    </tr>\n",
       "    <tr>\n",
       "      <th>2136</th>\n",
       "      <td>Vistara</td>\n",
       "      <td>20h 15m</td>\n",
       "      <td>1 Stop</td>\n",
       "      <td>17:35</td>\n",
       "      <td>13:50\\n+ 1 day</td>\n",
       "      <td>Mumbai</td>\n",
       "      <td>Goa</td>\n",
       "      <td>No Meal Fare\\nEmissions: 565 Kg CO2\\neCash 250</td>\n",
       "      <td>25,893</td>\n",
       "    </tr>\n",
       "    <tr>\n",
       "      <th>2137</th>\n",
       "      <td>Vistara</td>\n",
       "      <td>22h 05m</td>\n",
       "      <td>1 Stop</td>\n",
       "      <td>15:45</td>\n",
       "      <td>13:50\\n+ 1 day</td>\n",
       "      <td>Mumbai</td>\n",
       "      <td>Goa</td>\n",
       "      <td>No Meal Fare\\nEmissions: 565 Kg CO2\\neCash 250</td>\n",
       "      <td>25,893</td>\n",
       "    </tr>\n",
       "    <tr>\n",
       "      <th>2138</th>\n",
       "      <td>Vistara</td>\n",
       "      <td>16h 55m</td>\n",
       "      <td>1 Stop</td>\n",
       "      <td>20:55</td>\n",
       "      <td>13:50\\n+ 1 day</td>\n",
       "      <td>Mumbai</td>\n",
       "      <td>Goa</td>\n",
       "      <td>No Meal Fare\\nEmissions: 565 Kg CO2\\neCash 250</td>\n",
       "      <td>25,998</td>\n",
       "    </tr>\n",
       "  </tbody>\n",
       "</table>\n",
       "<p>2139 rows × 9 columns</p>\n",
       "</div>"
      ],
      "text/plain": [
       "          Name Duration Layovers Departure_time    Arrival_time     Source  \\\n",
       "0     Air Asia   5h 50m   1 Stop          08:20           14:10  New Delhi   \n",
       "1     Air Asia   6h 25m   1 Stop          20:00  02:25\\n+ 1 day  New Delhi   \n",
       "2     Air Asia  10h 30m   1 Stop          20:45  07:15\\n+ 1 day  New Delhi   \n",
       "3     Air Asia  11h 00m   1 Stop          09:35           20:35  New Delhi   \n",
       "4     Air Asia  11h 40m   1 Stop          20:00  07:40\\n+ 1 day  New Delhi   \n",
       "...        ...      ...      ...            ...             ...        ...   \n",
       "2134   Vistara  18h 05m   1 Stop          19:45  13:50\\n+ 1 day     Mumbai   \n",
       "2135   Vistara  19h 20m   1 Stop          18:30  13:50\\n+ 1 day     Mumbai   \n",
       "2136   Vistara  20h 15m   1 Stop          17:35  13:50\\n+ 1 day     Mumbai   \n",
       "2137   Vistara  22h 05m   1 Stop          15:45  13:50\\n+ 1 day     Mumbai   \n",
       "2138   Vistara  16h 55m   1 Stop          20:55  13:50\\n+ 1 day     Mumbai   \n",
       "\n",
       "     Destination                                         Details   Price  \n",
       "0         Mumbai                                       eCash 250   5,949  \n",
       "1         Mumbai                                       eCash 250   5,949  \n",
       "2         Mumbai                Emissions: 303 Kg CO2\\neCash 250   5,949  \n",
       "3         Mumbai                Emissions: 303 Kg CO2\\neCash 250   5,949  \n",
       "4         Mumbai                                       eCash 250   5,949  \n",
       "...          ...                                             ...     ...  \n",
       "2134         Goa  No Meal Fare\\nEmissions: 565 Kg CO2\\neCash 250  25,893  \n",
       "2135         Goa  No Meal Fare\\nEmissions: 565 Kg CO2\\neCash 250  25,893  \n",
       "2136         Goa  No Meal Fare\\nEmissions: 565 Kg CO2\\neCash 250  25,893  \n",
       "2137         Goa  No Meal Fare\\nEmissions: 565 Kg CO2\\neCash 250  25,893  \n",
       "2138         Goa  No Meal Fare\\nEmissions: 565 Kg CO2\\neCash 250  25,998  \n",
       "\n",
       "[2139 rows x 9 columns]"
      ]
     },
     "execution_count": 55,
     "metadata": {},
     "output_type": "execute_result"
    }
   ],
   "source": [
    "df_main"
   ]
  },
  {
   "cell_type": "code",
   "execution_count": 57,
   "id": "44a9f576",
   "metadata": {},
   "outputs": [],
   "source": [
    "df_main.to_csv(\"Fligh_prices_dataset.csv\")"
   ]
  },
  {
   "cell_type": "code",
   "execution_count": null,
   "id": "d2efc297",
   "metadata": {},
   "outputs": [],
   "source": []
  },
  {
   "cell_type": "code",
   "execution_count": null,
   "id": "4ae90e1b",
   "metadata": {},
   "outputs": [],
   "source": []
  }
 ],
 "metadata": {
  "kernelspec": {
   "display_name": "Python 3 (ipykernel)",
   "language": "python",
   "name": "python3"
  },
  "language_info": {
   "codemirror_mode": {
    "name": "ipython",
    "version": 3
   },
   "file_extension": ".py",
   "mimetype": "text/x-python",
   "name": "python",
   "nbconvert_exporter": "python",
   "pygments_lexer": "ipython3",
   "version": "3.8.8"
  }
 },
 "nbformat": 4,
 "nbformat_minor": 5
}
