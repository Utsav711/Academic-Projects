{
 "cells": [
  {
   "cell_type": "code",
   "execution_count": null,
   "id": "d3f28e89",
   "metadata": {},
   "outputs": [],
   "source": [
    "# Operational Database ETL"
   ]
  },
  {
   "cell_type": "code",
   "execution_count": 2,
   "id": "f2804cea",
   "metadata": {},
   "outputs": [],
   "source": [
    "import pandas as pd"
   ]
  },
  {
   "cell_type": "code",
   "execution_count": 24,
   "id": "c5fbab20",
   "metadata": {},
   "outputs": [],
   "source": [
    "df=pd.read_csv(\"customer sales.csv\")"
   ]
  },
  {
   "cell_type": "code",
   "execution_count": 9,
   "id": "caf6ac83",
   "metadata": {},
   "outputs": [
    {
     "data": {
      "text/plain": [
       "(150, 15)"
      ]
     },
     "execution_count": 9,
     "metadata": {},
     "output_type": "execute_result"
    }
   ],
   "source": [
    "df.shape"
   ]
  },
  {
   "cell_type": "code",
   "execution_count": 10,
   "id": "3dd60098",
   "metadata": {},
   "outputs": [
    {
     "data": {
      "text/html": [
       "<div>\n",
       "<style scoped>\n",
       "    .dataframe tbody tr th:only-of-type {\n",
       "        vertical-align: middle;\n",
       "    }\n",
       "\n",
       "    .dataframe tbody tr th {\n",
       "        vertical-align: top;\n",
       "    }\n",
       "\n",
       "    .dataframe thead th {\n",
       "        text-align: right;\n",
       "    }\n",
       "</style>\n",
       "<table border=\"1\" class=\"dataframe\">\n",
       "  <thead>\n",
       "    <tr style=\"text-align: right;\">\n",
       "      <th></th>\n",
       "      <th>Cust_ID</th>\n",
       "      <th>first_name</th>\n",
       "      <th>last_name</th>\n",
       "      <th>Cust_address</th>\n",
       "      <th>Cust_state</th>\n",
       "      <th>Cust_postcode</th>\n",
       "      <th>Invoice_No</th>\n",
       "      <th>Invoice_Date</th>\n",
       "      <th>Invoice_time</th>\n",
       "      <th>Line_No</th>\n",
       "      <th>Quantity</th>\n",
       "      <th>Item_No</th>\n",
       "      <th>Item_type</th>\n",
       "      <th>Item_price</th>\n",
       "      <th>Discount</th>\n",
       "    </tr>\n",
       "  </thead>\n",
       "  <tbody>\n",
       "    <tr>\n",
       "      <th>0</th>\n",
       "      <td>X674</td>\n",
       "      <td>Nerti</td>\n",
       "      <td>Pentlow</td>\n",
       "      <td>849 Shasta Trail</td>\n",
       "      <td>Colorado</td>\n",
       "      <td>81010</td>\n",
       "      <td>ZDTR827NO</td>\n",
       "      <td>17/04/2021</td>\n",
       "      <td>10:09 AM</td>\n",
       "      <td>D52</td>\n",
       "      <td>5</td>\n",
       "      <td>FZ349</td>\n",
       "      <td>Soup - Campbellschix Stew</td>\n",
       "      <td>64.4</td>\n",
       "      <td>9</td>\n",
       "    </tr>\n",
       "    <tr>\n",
       "      <th>1</th>\n",
       "      <td>D570</td>\n",
       "      <td>Jordan</td>\n",
       "      <td>Dreier</td>\n",
       "      <td>1 Summit Avenue</td>\n",
       "      <td>Missouri</td>\n",
       "      <td>65211</td>\n",
       "      <td>BMXG722YG</td>\n",
       "      <td>27/09/2021</td>\n",
       "      <td>11:10 PM</td>\n",
       "      <td>B16</td>\n",
       "      <td>10</td>\n",
       "      <td>WG897</td>\n",
       "      <td>Bacardi Breezer - Tropical</td>\n",
       "      <td>95.3</td>\n",
       "      <td>6</td>\n",
       "    </tr>\n",
       "    <tr>\n",
       "      <th>2</th>\n",
       "      <td>J883</td>\n",
       "      <td>Ferdinanda</td>\n",
       "      <td>Vasenkov</td>\n",
       "      <td>589 Blue Bill Park Point</td>\n",
       "      <td>Georgia</td>\n",
       "      <td>30336</td>\n",
       "      <td>MQBW148KK</td>\n",
       "      <td>2/9/2021</td>\n",
       "      <td>7:33 PM</td>\n",
       "      <td>J01</td>\n",
       "      <td>8</td>\n",
       "      <td>FA271</td>\n",
       "      <td>Pasta - Spaghetti, Dry</td>\n",
       "      <td>93.0</td>\n",
       "      <td>12</td>\n",
       "    </tr>\n",
       "    <tr>\n",
       "      <th>3</th>\n",
       "      <td>N854</td>\n",
       "      <td>Laryssa</td>\n",
       "      <td>Lidstone</td>\n",
       "      <td>3 Eliot Terrace</td>\n",
       "      <td>Texas</td>\n",
       "      <td>75353</td>\n",
       "      <td>VPLT986VP</td>\n",
       "      <td>9/7/2021</td>\n",
       "      <td>9:01 PM</td>\n",
       "      <td>L29</td>\n",
       "      <td>1</td>\n",
       "      <td>EX622</td>\n",
       "      <td>Carrots - Jumbo</td>\n",
       "      <td>13.4</td>\n",
       "      <td>8</td>\n",
       "    </tr>\n",
       "    <tr>\n",
       "      <th>4</th>\n",
       "      <td>C465</td>\n",
       "      <td>Bobette</td>\n",
       "      <td>Philipson</td>\n",
       "      <td>29801 Hagan Place</td>\n",
       "      <td>California</td>\n",
       "      <td>92612</td>\n",
       "      <td>RMTS932JX</td>\n",
       "      <td>12/5/2021</td>\n",
       "      <td>11:02 AM</td>\n",
       "      <td>Z46</td>\n",
       "      <td>8</td>\n",
       "      <td>CN516</td>\n",
       "      <td>Hold Up Tool Storage Rack</td>\n",
       "      <td>6.4</td>\n",
       "      <td>12</td>\n",
       "    </tr>\n",
       "  </tbody>\n",
       "</table>\n",
       "</div>"
      ],
      "text/plain": [
       "  Cust_ID  first_name  last_name              Cust_address  Cust_state  \\\n",
       "0    X674       Nerti    Pentlow          849 Shasta Trail    Colorado   \n",
       "1    D570      Jordan     Dreier           1 Summit Avenue    Missouri   \n",
       "2    J883  Ferdinanda   Vasenkov  589 Blue Bill Park Point     Georgia   \n",
       "3    N854     Laryssa   Lidstone           3 Eliot Terrace       Texas   \n",
       "4    C465     Bobette  Philipson         29801 Hagan Place  California   \n",
       "\n",
       "   Cust_postcode Invoice_No Invoice_Date Invoice_time Line_No  Quantity  \\\n",
       "0          81010  ZDTR827NO   17/04/2021     10:09 AM     D52         5   \n",
       "1          65211  BMXG722YG   27/09/2021     11:10 PM     B16        10   \n",
       "2          30336  MQBW148KK     2/9/2021      7:33 PM     J01         8   \n",
       "3          75353  VPLT986VP     9/7/2021      9:01 PM     L29         1   \n",
       "4          92612  RMTS932JX    12/5/2021     11:02 AM     Z46         8   \n",
       "\n",
       "  Item_No                   Item_type  Item_price  Discount  \n",
       "0   FZ349   Soup - Campbellschix Stew        64.4         9  \n",
       "1   WG897  Bacardi Breezer - Tropical        95.3         6  \n",
       "2   FA271      Pasta - Spaghetti, Dry        93.0        12  \n",
       "3   EX622             Carrots - Jumbo        13.4         8  \n",
       "4   CN516   Hold Up Tool Storage Rack         6.4        12  "
      ]
     },
     "execution_count": 10,
     "metadata": {},
     "output_type": "execute_result"
    }
   ],
   "source": [
    "df.head()"
   ]
  },
  {
   "cell_type": "code",
   "execution_count": 12,
   "id": "fd77d648",
   "metadata": {},
   "outputs": [
    {
     "data": {
      "text/plain": [
       "Cust_ID          0\n",
       "first_name       0\n",
       "last_name        0\n",
       "Cust_address     0\n",
       "Cust_state       0\n",
       "Cust_postcode    0\n",
       "Invoice_No       0\n",
       "Invoice_Date     0\n",
       "Invoice_time     0\n",
       "Line_No          0\n",
       "Quantity         0\n",
       "Item_No          0\n",
       "Item_type        0\n",
       "Item_price       0\n",
       "Discount         0\n",
       "dtype: int64"
      ]
     },
     "execution_count": 12,
     "metadata": {},
     "output_type": "execute_result"
    }
   ],
   "source": [
    "df.isnull().sum()"
   ]
  },
  {
   "cell_type": "markdown",
   "id": "e3234064",
   "metadata": {},
   "source": [
    "## Loading Data in Operational DB tables"
   ]
  },
  {
   "cell_type": "code",
   "execution_count": 13,
   "id": "986c1550",
   "metadata": {},
   "outputs": [
    {
     "name": "stdout",
     "output_type": "stream",
     "text": [
      "Database is created\n"
     ]
    }
   ],
   "source": [
    "import mysql.connector as msql\n",
    "from mysql.connector import Error\n",
    "try:\n",
    "    conn = msql.connect(host='localhost', user='root',  \n",
    "                        password='cbr250R0471@')#give ur username, password\n",
    "    if conn.is_connected():\n",
    "        cursor = conn.cursor()\n",
    "        cursor.execute(\"CREATE DATABASE sales\")\n",
    "        print(\"Database is created\")\n",
    "except Error as e:\n",
    "    print(\"Error while connecting to MySQL\", e)"
   ]
  },
  {
   "cell_type": "code",
   "execution_count": 26,
   "id": "cac141d7",
   "metadata": {},
   "outputs": [
    {
     "name": "stdout",
     "output_type": "stream",
     "text": [
      "You're connected to database:  ('sales',)\n",
      "Creating table....\n",
      "Table is created....\n",
      "rows executed\n"
     ]
    }
   ],
   "source": [
    "import mysql.connector as c\n",
    "from mysql.connector import Error\n",
    "try:\n",
    "    conn = c.connect(host='localhost', database='sales', user='root',\n",
    "                         password='cbr250R0471@')\n",
    "    if conn.is_connected():\n",
    "        cursor = conn.cursor()\n",
    "        cursor.execute(\"select database();\")\n",
    "        record = cursor.fetchone()\n",
    "       \n",
    "        print(\"You're connected to database: \", record)\n",
    "        cursor.execute('DROP TABLE IF EXISTS item;')\n",
    "        print('Creating table....')\n",
    "   \n",
    "        sql=('CREATE TABLE item'\n",
    "             +'(\\n'\n",
    "             +'Item_No VARCHAR(5) NOT NULL,'\n",
    "             +'Item_type VARCHAR(255) NOT NULL,'\n",
    "             +'Discount INT NOT NULL,'\n",
    "             +'Item_price INT NOT NULL,'\n",
    "             +'PRIMARY KEY (Item_No)'             \n",
    "             +')'\n",
    "                             )\n",
    "        cursor.execute(sql)\n",
    "        print(\"Table is created....\")\n",
    "    \n",
    "        \n",
    "        for i, row in df.iterrows():            \n",
    "             cursor.execute(\"INSERT INTO sales.item(Item_no,Item_type,Discount,Item_price) VALUES (%s,%s,%s,%s)\", \n",
    "                           [row['Item_No'],row['Item_type'], row['Discount'], row['Item_price'] ])\n",
    "        print('rows executed')\n",
    "        conn.commit()\n",
    "        \n",
    "except Error as e:\n",
    "            print(\"Error while connecting to MySQL\", e)\n",
    "        "
   ]
  },
  {
   "cell_type": "code",
   "execution_count": 28,
   "id": "d29a4cbf",
   "metadata": {},
   "outputs": [
    {
     "name": "stdout",
     "output_type": "stream",
     "text": [
      "You're connected to database:  ('sales',)\n",
      "Creating table....\n",
      "Table is created....\n",
      "rows executed\n"
     ]
    }
   ],
   "source": [
    "import mysql.connector as c\n",
    "from mysql.connector import Error\n",
    "try:\n",
    "    conn = c.connect(host='localhost', database='sales', user='root',\n",
    "                         password='cbr250R0471@')\n",
    "    if conn.is_connected():\n",
    "        cursor = conn.cursor()\n",
    "        cursor.execute(\"select database();\")\n",
    "        record = cursor.fetchone()\n",
    "       \n",
    "        print(\"You're connected to database: \", record)\n",
    "        cursor.execute('DROP TABLE IF EXISTS customer;')\n",
    "        print('Creating table....')\n",
    "   \n",
    "        sql=('CREATE TABLE customer'\n",
    "             +'(\\n'\n",
    "             +'Cust_ID VARCHAR(4) NOT NULL,'\n",
    "             +'first_name VARCHAR(255) NOT NULL,'\n",
    "             +'last_name VARCHAR(255) NOT NULL,'\n",
    "             +'Cust_state VARCHAR(35) NOT NULL,'\n",
    "             +'Cust_address VARCHAR(255) NOT NULL,'\n",
    "             +'Cust_postcode INT NOT NULL,'\n",
    "             +'PRIMARY KEY (Cust_ID)'             \n",
    "             +')'\n",
    "             )\n",
    "        cursor.execute(sql)\n",
    "        print(\"Table is created....\")\n",
    "    \n",
    "        \n",
    "        for i, row in df.iterrows():            \n",
    "             cursor.execute(\"INSERT INTO sales.customer(Cust_ID,Cust_state,Cust_address,Cust_postcode,first_name,last_name) VALUES (%s,%s,%s,%s,%s,%s)\", \n",
    "                           [row['Cust_ID'],row['Cust_state'], row['Cust_address'], row['Cust_postcode'],row['first_name'],row['last_name']])\n",
    "        print('rows executed')\n",
    "        conn.commit()\n",
    "        \n",
    "except Error as e:\n",
    "            print(\"Error while connecting to MySQL\", e)"
   ]
  },
  {
   "cell_type": "code",
   "execution_count": 29,
   "id": "8f564e86",
   "metadata": {},
   "outputs": [
    {
     "name": "stdout",
     "output_type": "stream",
     "text": [
      "You're connected to database:  ('sales',)\n",
      "Creating table....\n",
      "Table is created....\n",
      "rows executed\n"
     ]
    }
   ],
   "source": [
    "import mysql.connector as c\n",
    "from mysql.connector import Error\n",
    "try:\n",
    "    conn = c.connect(host='localhost', database='sales', user='root',\n",
    "                         password='cbr250R0471@')\n",
    "    if conn.is_connected():\n",
    "        cursor = conn.cursor()\n",
    "        cursor.execute(\"select database();\")\n",
    "        record = cursor.fetchone()\n",
    "       \n",
    "        print(\"You're connected to database: \", record)\n",
    "        cursor.execute('DROP TABLE IF EXISTS invoiceitem;')\n",
    "        print('Creating table....')\n",
    "   \n",
    "        sql=('CREATE TABLE invoiceitem'\n",
    "             +'(\\n'\n",
    "             +'Line_no VARCHAR(3) NOT NULL,'\n",
    "             +'Quantity INT NOT NULL,'\n",
    "             +'Item_No VARCHAR(5) NOT NULL,'\n",
    "             +'PRIMARY KEY (Line_No),'\n",
    "             +'FOREIGN KEY (Item_No) REFERENCES item(Item_No)'             \n",
    "             +')'\n",
    "             )\n",
    "        cursor.execute(sql)\n",
    "        print(\"Table is created....\")\n",
    "    \n",
    "        \n",
    "        for i, row in df.iterrows():            \n",
    "             cursor.execute(\"INSERT INTO sales.invoiceitem(Line_no,Quantity,Item_No) VALUES (%s,%s,%s)\", \n",
    "                           [row['Line_No'],row['Quantity'], row['Item_No']])\n",
    "        print('rows executed')\n",
    "        conn.commit()\n",
    "        \n",
    "except Error as e:\n",
    "            print(\"Error while connecting to MySQL\", e)"
   ]
  },
  {
   "cell_type": "code",
   "execution_count": 30,
   "id": "95be28d3",
   "metadata": {
    "scrolled": true
   },
   "outputs": [
    {
     "name": "stdout",
     "output_type": "stream",
     "text": [
      "You're connected to database:  ('sales',)\n",
      "Creating table....\n",
      "Table is created....\n",
      "rows executed\n"
     ]
    }
   ],
   "source": [
    "import mysql.connector as c\n",
    "from mysql.connector import Error\n",
    "try:\n",
    "    conn = c.connect(host='localhost', database='sales', user='root',\n",
    "                         password='cbr250R0471@')\n",
    "    if conn.is_connected():\n",
    "        cursor = conn.cursor()\n",
    "        cursor.execute(\"select database();\")\n",
    "        record = cursor.fetchone()\n",
    "       \n",
    "        print(\"You're connected to database: \", record)\n",
    "        cursor.execute('DROP TABLE IF EXISTS invoice;')\n",
    "        print('Creating table....')\n",
    "   \n",
    "        sql=('CREATE TABLE invoice'\n",
    "             +'(\\n'\n",
    "             +'Invoice_No VARCHAR(9) NOT NULL,'\n",
    "             +'Invoice_Date VARCHAR(15)  NOT NULL,'\n",
    "             +'Invoice_time VARCHAR(9) NOT NULL,'\n",
    "             +'Cust_ID VARCHAR(4) NOT NULL,'\n",
    "             +'PRIMARY KEY (Invoice_No),'\n",
    "             +'FOREIGN KEY (Cust_ID) REFERENCES customer(Cust_ID)'             \n",
    "             +')'\n",
    "             )\n",
    "        cursor.execute(sql)\n",
    "        print(\"Table is created....\")\n",
    "    \n",
    "        \n",
    "        for i, row in df.iterrows():            \n",
    "             cursor.execute(\"INSERT INTO sales.invoice(Invoice_No,Invoice_Date,Invoice_time,Cust_ID) VALUES (%s,%s,%s,%s)\", \n",
    "                           [row['Invoice_No'],row['Invoice_Date'], row['Invoice_time'], row['Cust_ID']])\n",
    "        print('rows executed')\n",
    "        conn.commit()\n",
    "        \n",
    "except Error as e:\n",
    "            print(\"Error while connecting to MySQL\", e)"
   ]
  },
  {
   "cell_type": "code",
   "execution_count": 31,
   "id": "7c8b160a",
   "metadata": {
    "scrolled": true
   },
   "outputs": [
    {
     "name": "stdout",
     "output_type": "stream",
     "text": [
      "You're connected to database:  ('sales',)\n",
      "Creating table....\n",
      "Table is created....\n",
      "rows executed\n"
     ]
    }
   ],
   "source": [
    "import mysql.connector as c\n",
    "from mysql.connector import Error\n",
    "try:\n",
    "    conn = c.connect(host='localhost', database='sales', user='root',\n",
    "                         password='cbr250R0471@')\n",
    "    if conn.is_connected():\n",
    "        cursor = conn.cursor()\n",
    "        cursor.execute(\"select database();\")\n",
    "        record = cursor.fetchone()\n",
    "       \n",
    "        print(\"You're connected to database: \", record)\n",
    "        cursor.execute('DROP TABLE IF EXISTS consist;')\n",
    "        print('Creating table....')\n",
    "   \n",
    "        sql=('CREATE TABLE consist'\n",
    "             +'(\\n'\n",
    "             +'Line_No VARCHAR(3) NOT NULL,'\n",
    "             +'Invoice_No VARCHAR(9) NOT NULL,'\n",
    "             +'PRIMARY KEY (Invoice_No, Line_no),'\n",
    "             +'FOREIGN KEY (Invoice_No) REFERENCES invoice(Invoice_No),' \n",
    "             +'FOREIGN KEY (Line_no) REFERENCES invoiceitem(Line_no)'\n",
    "             +')'\n",
    "             )\n",
    "        cursor.execute(sql)\n",
    "        print(\"Table is created....\")\n",
    "    \n",
    "        \n",
    "        for i, row in df.iterrows():            \n",
    "             cursor.execute(\"INSERT INTO sales.consist(Line_No,Invoice_No) VALUES (%s,%s)\", \n",
    "                           [row['Line_No'],row['Invoice_No']])\n",
    "        print('rows executed')\n",
    "        conn.commit()\n",
    "        \n",
    "except Error as e:\n",
    "            print(\"Error while connecting to MySQL\", e)"
   ]
  }
 ],
 "metadata": {
  "kernelspec": {
   "display_name": "Python 3 (ipykernel)",
   "language": "python",
   "name": "python3"
  },
  "language_info": {
   "codemirror_mode": {
    "name": "ipython",
    "version": 3
   },
   "file_extension": ".py",
   "mimetype": "text/x-python",
   "name": "python",
   "nbconvert_exporter": "python",
   "pygments_lexer": "ipython3",
   "version": "3.9.15"
  }
 },
 "nbformat": 4,
 "nbformat_minor": 5
}
